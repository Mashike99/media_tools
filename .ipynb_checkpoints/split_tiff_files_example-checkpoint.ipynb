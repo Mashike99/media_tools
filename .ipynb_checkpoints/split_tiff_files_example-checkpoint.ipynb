{
 "cells": [
  {
   "cell_type": "markdown",
   "id": "873612e8",
   "metadata": {},
   "source": [
    "## Multipage TIFF Splitter"
   ]
  },
  {
   "cell_type": "markdown",
   "id": "b284c03d",
   "metadata": {},
   "source": [
    "Recently our lab has been doing a lot of analysis and measurement of citrus tree trunk xylem vessels in images we take on our Nikon Eclipse Ti2 microscope. Most of the routine measurements can be automated fairly easily using macros in the [Fiji](https://imagej.net/software/fiji/) distribution of ImageJ. However others have to be processed using image analysis modules in Python or R. When importing an image sequence into ImageJ, the resulting image files are often exported to the multipage .tiff format for ease. You can easily split the file into individual images using ImageJ, but when dealing with large tiff stacks the file saving process can be a bit cumbersome. "
   ]
  },
  {
   "cell_type": "markdown",
   "id": "724c2c9f",
   "metadata": {},
   "source": [
    "I wanted to write some code to automate the process for us and export the resulting files to a directory of choice. The script `binary_tiff_splitter.py` contains a function `tiff_splitter` to help us out here.\n",
    "```\n",
    "This is a test\n",
    "```"
   ]
  },
  {
   "cell_type": "code",
   "execution_count": 8,
   "id": "44f8d669",
   "metadata": {},
   "outputs": [],
   "source": [
    "from binary_tiff_splitter import tiff_splitter\n"
   ]
  },
  {
   "cell_type": "code",
   "execution_count": null,
   "id": "ac87464f",
   "metadata": {},
   "outputs": [],
   "source": []
  }
 ],
 "metadata": {
  "kernelspec": {
   "display_name": "Python 3 (ipykernel)",
   "language": "python",
   "name": "python3"
  },
  "language_info": {
   "codemirror_mode": {
    "name": "ipython",
    "version": 3
   },
   "file_extension": ".py",
   "mimetype": "text/x-python",
   "name": "python",
   "nbconvert_exporter": "python",
   "pygments_lexer": "ipython3",
   "version": "3.9.9"
  }
 },
 "nbformat": 4,
 "nbformat_minor": 5
}
